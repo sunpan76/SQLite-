{
 "cells": [
  {
   "cell_type": "code",
   "execution_count": 1,
   "metadata": {},
   "outputs": [],
   "source": [
    "import sqlite3"
   ]
  },
  {
   "cell_type": "code",
   "execution_count": 2,
   "metadata": {},
   "outputs": [],
   "source": [
    "conn = sqlite3.connect('customer.db')"
   ]
  },
  {
   "cell_type": "markdown",
   "metadata": {},
   "source": [
    "# conn = sqlite3.connect(':memory:') '''This will create database in memory'''\n",
    "    "
   ]
  },
  {
   "cell_type": "code",
   "execution_count": 4,
   "metadata": {},
   "outputs": [
    {
     "data": {
      "text/plain": [
       "<sqlite3.Cursor at 0x7f98d3c03570>"
      ]
     },
     "execution_count": 4,
     "metadata": {},
     "output_type": "execute_result"
    }
   ],
   "source": [
    "#A cursor is tells database to do what you wanted to do.\n",
    "\n",
    "c = conn.cursor()\n",
    "\n",
    "\"\"\"Create a table\"\"\"\n",
    "\n",
    "c.execute(\"\"\"\n",
    "    CREATE TABLE customers1 (\n",
    "    first_name text,\n",
    "    last_name text,\n",
    "    email text\n",
    ")\"\"\")\n",
    "# commit our command\n",
    "\n",
    "#conn.commit()\n",
    "\n",
    "\n",
    "# close our connection\n",
    "\n",
    "#conn.close()\n",
    "\n",
    "\n"
   ]
  },
  {
   "cell_type": "code",
   "execution_count": 5,
   "metadata": {},
   "outputs": [
    {
     "data": {
      "text/plain": [
       "<sqlite3.Cursor at 0x7f98d3c03570>"
      ]
     },
     "execution_count": 5,
     "metadata": {},
     "output_type": "execute_result"
    }
   ],
   "source": [
    "#insert data to table\n",
    "\n",
    "c.execute(\"\"\"INSERT INTO customers1 VALUES ('Sundar', 'Pandey', 'sun@pandey.com') \"\"\")\n",
    "\n",
    "#conn.commit()\n",
    "\n",
    "#conn.close()"
   ]
  },
  {
   "cell_type": "code",
   "execution_count": 6,
   "metadata": {},
   "outputs": [],
   "source": [
    "# many custormers\n",
    "\n",
    "many_customers = [('wes', 'Brown', 'wes@brown.com'),\n",
    "                ('Steph', 'Kuewa', 'Steph@brown.com'),\n",
    "                ('Dan', 'pas', 'dan@pas.com'),\n",
    "                ]"
   ]
  },
  {
   "cell_type": "code",
   "execution_count": 7,
   "metadata": {},
   "outputs": [
    {
     "data": {
      "text/plain": [
       "<sqlite3.Cursor at 0x7f98d3c03570>"
      ]
     },
     "execution_count": 7,
     "metadata": {},
     "output_type": "execute_result"
    }
   ],
   "source": [
    "c.executemany(\"\"\"INSERT INTO customers1 VALUES (?,?,?)\"\"\", many_customers)"
   ]
  },
  {
   "cell_type": "code",
   "execution_count": 8,
   "metadata": {},
   "outputs": [
    {
     "data": {
      "text/plain": [
       "<sqlite3.Cursor at 0x7f98d3c03570>"
      ]
     },
     "execution_count": 8,
     "metadata": {},
     "output_type": "execute_result"
    }
   ],
   "source": [
    "c.execute(\"SELECT * FROM customers1\")"
   ]
  },
  {
   "cell_type": "code",
   "execution_count": 9,
   "metadata": {
    "scrolled": true
   },
   "outputs": [],
   "source": [
    "#c.fetchone()\n",
    "#c.fethchmany(2)\n",
    "items = c.fetchall()"
   ]
  },
  {
   "cell_type": "code",
   "execution_count": 10,
   "metadata": {},
   "outputs": [
    {
     "name": "stdout",
     "output_type": "stream",
     "text": [
      "Sundar Pandey\n",
      "wes Brown\n",
      "Steph Kuewa\n",
      "Dan pas\n"
     ]
    }
   ],
   "source": [
    "for item in items:\n",
    "    print(item[0] + ' ' + item[1])\n",
    "    \n",
    "\n"
   ]
  },
  {
   "cell_type": "code",
   "execution_count": 11,
   "metadata": {},
   "outputs": [
    {
     "data": {
      "text/plain": [
       "<sqlite3.Cursor at 0x7f98d3c03570>"
      ]
     },
     "execution_count": 11,
     "metadata": {},
     "output_type": "execute_result"
    }
   ],
   "source": [
    "# primary key ID\n",
    "\n",
    "c.execute('SELECT rowid, * FROM customers1')"
   ]
  },
  {
   "cell_type": "code",
   "execution_count": 12,
   "metadata": {},
   "outputs": [],
   "source": [
    "items = c.fetchall()"
   ]
  },
  {
   "cell_type": "code",
   "execution_count": 13,
   "metadata": {},
   "outputs": [
    {
     "name": "stdout",
     "output_type": "stream",
     "text": [
      "(1, 'Sundar', 'Pandey', 'sun@pandey.com')\n",
      "(2, 'wes', 'Brown', 'wes@brown.com')\n",
      "(3, 'Steph', 'Kuewa', 'Steph@brown.com')\n",
      "(4, 'Dan', 'pas', 'dan@pas.com')\n"
     ]
    }
   ],
   "source": [
    "for item in items:\n",
    "    print(item)"
   ]
  },
  {
   "cell_type": "code",
   "execution_count": 14,
   "metadata": {},
   "outputs": [
    {
     "data": {
      "text/plain": [
       "<sqlite3.Cursor at 0x7f98d3c03570>"
      ]
     },
     "execution_count": 14,
     "metadata": {},
     "output_type": "execute_result"
    }
   ],
   "source": [
    "# where clause\n",
    "\n",
    "c.execute(\"\"\"SELECT * FROM customers1 WHERE last_name = \"Pandey\" \"\"\")"
   ]
  },
  {
   "cell_type": "code",
   "execution_count": 15,
   "metadata": {},
   "outputs": [
    {
     "name": "stdout",
     "output_type": "stream",
     "text": [
      "('Sundar', 'Pandey', 'sun@pandey.com')\n"
     ]
    }
   ],
   "source": [
    "items = c.fetchall()\n",
    "for item in items:\n",
    "    print(item)\n",
    "\n"
   ]
  },
  {
   "cell_type": "code",
   "execution_count": 16,
   "metadata": {},
   "outputs": [
    {
     "data": {
      "text/plain": [
       "<sqlite3.Cursor at 0x7f98d3c03570>"
      ]
     },
     "execution_count": 16,
     "metadata": {},
     "output_type": "execute_result"
    }
   ],
   "source": [
    "# update Records\n",
    "c.execute(\"\"\"update customers1 set first_name = 'Kam' \n",
    "            where rowid = 24 \"\"\")\n"
   ]
  },
  {
   "cell_type": "code",
   "execution_count": 17,
   "metadata": {},
   "outputs": [
    {
     "data": {
      "text/plain": [
       "<sqlite3.Cursor at 0x7f98d3c03570>"
      ]
     },
     "execution_count": 17,
     "metadata": {},
     "output_type": "execute_result"
    }
   ],
   "source": [
    "c.execute(\"\"\"select * from customers1 where rowid = 24\"\"\")"
   ]
  },
  {
   "cell_type": "code",
   "execution_count": 18,
   "metadata": {},
   "outputs": [
    {
     "data": {
      "text/plain": [
       "[]"
      ]
     },
     "execution_count": 18,
     "metadata": {},
     "output_type": "execute_result"
    }
   ],
   "source": [
    "c.fetchall()"
   ]
  },
  {
   "cell_type": "code",
   "execution_count": 19,
   "metadata": {},
   "outputs": [
    {
     "data": {
      "text/plain": [
       "[('Sundar', 'Pandey', 'sun@pandey.com'),\n",
       " ('wes', 'Brown', 'wes@brown.com'),\n",
       " ('Steph', 'Kuewa', 'Steph@brown.com'),\n",
       " ('Dan', 'pas', 'dan@pas.com')]"
      ]
     },
     "execution_count": 19,
     "metadata": {},
     "output_type": "execute_result"
    }
   ],
   "source": [
    "# Delet Record\n",
    "\n",
    "c.execute(\"\"\"Delete from customers1 where rowid > 10 \"\"\")\n",
    "\n",
    "c.execute(\"\"\"select * from customers1\"\"\")\n",
    "\n",
    "c.fetchall()"
   ]
  },
  {
   "cell_type": "code",
   "execution_count": 20,
   "metadata": {},
   "outputs": [
    {
     "data": {
      "text/plain": [
       "[(2, 'wes', 'Brown', 'wes@brown.com'),\n",
       " (3, 'Steph', 'Kuewa', 'Steph@brown.com'),\n",
       " (1, 'Sundar', 'Pandey', 'sun@pandey.com'),\n",
       " (4, 'Dan', 'pas', 'dan@pas.com')]"
      ]
     },
     "execution_count": 20,
     "metadata": {},
     "output_type": "execute_result"
    }
   ],
   "source": [
    "# order by\n",
    "\n",
    "c.execute(\"\"\"select rowid, * from customers1 order by last_name\"\"\")\n",
    "\n",
    "c.fetchall()"
   ]
  },
  {
   "cell_type": "code",
   "execution_count": 21,
   "metadata": {},
   "outputs": [
    {
     "data": {
      "text/plain": [
       "[(4, 'Dan', 'pas', 'dan@pas.com'),\n",
       " (3, 'Steph', 'Kuewa', 'Steph@brown.com'),\n",
       " (2, 'wes', 'Brown', 'wes@brown.com'),\n",
       " (1, 'Sundar', 'Pandey', 'sun@pandey.com')]"
      ]
     },
     "execution_count": 21,
     "metadata": {},
     "output_type": "execute_result"
    }
   ],
   "source": [
    "c.execute(\"\"\"select rowid, * from customers1 order by rowid Desc\"\"\")\n",
    "\n",
    "c.fetchall()"
   ]
  },
  {
   "cell_type": "code",
   "execution_count": 22,
   "metadata": {},
   "outputs": [
    {
     "data": {
      "text/plain": [
       "[]"
      ]
     },
     "execution_count": 22,
     "metadata": {},
     "output_type": "execute_result"
    }
   ],
   "source": [
    "# and / or\n",
    "\n",
    "c.execute(\"\"\"select rowid, * from customers1 where last_name like 'Br%' and rowid = 3 \"\"\")\n",
    "\n",
    "c.fetchall()"
   ]
  },
  {
   "cell_type": "code",
   "execution_count": 23,
   "metadata": {},
   "outputs": [
    {
     "data": {
      "text/plain": [
       "[(4, 'Dan', 'pas', 'dan@pas.com'), (3, 'Steph', 'Kuewa', 'Steph@brown.com')]"
      ]
     },
     "execution_count": 23,
     "metadata": {},
     "output_type": "execute_result"
    }
   ],
   "source": [
    "# limit\n",
    "\n",
    "c.execute(\"\"\"select rowid, * from customers1 order by rowid Desc limit 2\"\"\")\n",
    "\n",
    "c.fetchall()"
   ]
  },
  {
   "cell_type": "code",
   "execution_count": 24,
   "metadata": {},
   "outputs": [
    {
     "data": {
      "text/plain": [
       "<sqlite3.Cursor at 0x7f98d3c03570>"
      ]
     },
     "execution_count": 24,
     "metadata": {},
     "output_type": "execute_result"
    }
   ],
   "source": [
    "# drop table\n",
    "\n",
    "c.execute(\"\"\"Drop table customers1\"\"\")"
   ]
  },
  {
   "cell_type": "code",
   "execution_count": 25,
   "metadata": {},
   "outputs": [
    {
     "ename": "OperationalError",
     "evalue": "no such table: customers1",
     "output_type": "error",
     "traceback": [
      "\u001b[0;31m---------------------------------------------------------------------------\u001b[0m",
      "\u001b[0;31mOperationalError\u001b[0m                          Traceback (most recent call last)",
      "\u001b[0;32m<ipython-input-25-688747ecbc2a>\u001b[0m in \u001b[0;36m<module>\u001b[0;34m\u001b[0m\n\u001b[0;32m----> 1\u001b[0;31m \u001b[0mc\u001b[0m\u001b[0;34m.\u001b[0m\u001b[0mexecute\u001b[0m\u001b[0;34m(\u001b[0m\u001b[0;34m\"\"\"select * from customers1\"\"\"\u001b[0m\u001b[0;34m)\u001b[0m\u001b[0;34m\u001b[0m\u001b[0;34m\u001b[0m\u001b[0m\n\u001b[0m",
      "\u001b[0;31mOperationalError\u001b[0m: no such table: customers1"
     ]
    }
   ],
   "source": [
    "c.execute(\"\"\"select * from customers1\"\"\")"
   ]
  }
 ],
 "metadata": {
  "kernelspec": {
   "display_name": "Python 3",
   "language": "python",
   "name": "python3"
  },
  "language_info": {
   "codemirror_mode": {
    "name": "ipython",
    "version": 3
   },
   "file_extension": ".py",
   "mimetype": "text/x-python",
   "name": "python",
   "nbconvert_exporter": "python",
   "pygments_lexer": "ipython3",
   "version": "3.7.4"
  }
 },
 "nbformat": 4,
 "nbformat_minor": 2
}
